{
 "cells": [
  {
   "cell_type": "code",
   "execution_count": 16,
   "id": "a3d02335",
   "metadata": {},
   "outputs": [],
   "source": [
    "import numpy as np\n",
    "import matplotlib\n",
    "import matplotlib.pyplot as plt\n",
    "import seaborn as sns"
   ]
  },
  {
   "cell_type": "code",
   "execution_count": 35,
   "id": "bddcf431",
   "metadata": {},
   "outputs": [],
   "source": [
    "#定义一个图像\n",
    "img = np.array([[1,2,1,2,2],[2,1,0,1,0],[3,2,1,3,2],[3,2,1,1,2],[1,2,1,1,2]])"
   ]
  },
  {
   "cell_type": "code",
   "execution_count": 36,
   "id": "7fd53b66",
   "metadata": {},
   "outputs": [],
   "source": [
    "img = img.reshape(5,5,1)"
   ]
  },
  {
   "cell_type": "code",
   "execution_count": 38,
   "id": "cbf9ab48",
   "metadata": {},
   "outputs": [],
   "source": [
    "img = np.transpose(img,(2,0,1))"
   ]
  },
  {
   "cell_type": "code",
   "execution_count": 40,
   "id": "6d44013e",
   "metadata": {},
   "outputs": [
    {
     "data": {
      "text/plain": [
       "array([[[1, 2, 1, 2, 2],\n",
       "        [2, 1, 0, 1, 0],\n",
       "        [3, 2, 1, 3, 2],\n",
       "        [3, 2, 1, 1, 2],\n",
       "        [1, 2, 1, 1, 2]]])"
      ]
     },
     "execution_count": 40,
     "metadata": {},
     "output_type": "execute_result"
    }
   ],
   "source": [
    "img"
   ]
  },
  {
   "cell_type": "code",
   "execution_count": 28,
   "id": "010923e5",
   "metadata": {},
   "outputs": [
    {
     "data": {
      "text/plain": [
       "<AxesSubplot:>"
      ]
     },
     "execution_count": 28,
     "metadata": {},
     "output_type": "execute_result"
    },
    {
     "data": {
      "image/png": "[encoded data removed]",
      "text/plain": [
       "<Figure size 432x288 with 2 Axes>"
      ]
     },
     "metadata": {
      "needs_background": "light"
     },
     "output_type": "display_data"
    }
   ],
   "source": [
    "sns.heatmap(img)"
   ]
  },
  {
   "cell_type": "code",
   "execution_count": 20,
   "id": "a7c22281",
   "metadata": {},
   "outputs": [
    {
     "data": {
      "text/plain": [
       "array([[1, 0, 0],\n",
       "       [0, 1, 0],\n",
       "       [0, 0, 1]])"
      ]
     },
     "execution_count": 20,
     "metadata": {},
     "output_type": "execute_result"
    }
   ],
   "source": [
    "kernel = np.diag((1,1,1))\n",
    "kernel"
   ]
  },
  {
   "cell_type": "code",
   "execution_count": 21,
   "id": "9a57cba0",
   "metadata": {},
   "outputs": [
    {
     "data": {
      "text/plain": [
       "<matplotlib.image.AxesImage at 0x1f0da08fe80>"
      ]
     },
     "execution_count": 21,
     "metadata": {},
     "output_type": "execute_result"
    },
    {
     "data": {
      "image/png": "[encoded data removed]",
      "text/plain": [
       "<Figure size 288x288 with 1 Axes>"
      ]
     },
     "metadata": {
      "needs_background": "light"
     },
     "output_type": "display_data"
    }
   ],
   "source": [
    "plt.matshow(kernel)"
   ]
  },
  {
   "cell_type": "code",
   "execution_count": 43,
   "id": "97be62b7",
   "metadata": {},
   "outputs": [],
   "source": [
    "kernel = kernel.reshape(3,3,1)\n",
    "kernel = np.transpose(kernel,(2,0,1))"
   ]
  },
  {
   "cell_type": "code",
   "execution_count": 44,
   "id": "1b876b2c",
   "metadata": {},
   "outputs": [],
   "source": [
    "kernel = np.expand_dims(kernel,axis=0)"
   ]
  },
  {
   "cell_type": "code",
   "execution_count": 45,
   "id": "998bf9ea",
   "metadata": {},
   "outputs": [
    {
     "data": {
      "text/plain": [
       "(1, 1, 3, 3)"
      ]
     },
     "execution_count": 45,
     "metadata": {},
     "output_type": "execute_result"
    }
   ],
   "source": [
    "kernel.shape"
   ]
  },
  {
   "cell_type": "code",
   "execution_count": 46,
   "id": "0f3f4b80",
   "metadata": {},
   "outputs": [],
   "source": [
    "cout,cin,H,W = kernel.shape"
   ]
  },
  {
   "cell_type": "code",
   "execution_count": null,
   "id": "a664f4a2",
   "metadata": {},
   "outputs": [],
   "source": []
  }
 ],
 "metadata": {
  "kernelspec": {
   "display_name": "Python 3 (ipykernel)",
   "language": "python",
   "name": "python3"
  },
  "language_info": {
   "codemirror_mode": {
    "name": "ipython",
    "version": 3
   },
   "file_extension": ".py",
   "mimetype": "text/x-python",
   "name": "python",
   "nbconvert_exporter": "python",
   "pygments_lexer": "ipython3",
   "version": "3.8.13"
  }
 },
 "nbformat": 4,
 "nbformat_minor": 5
}
