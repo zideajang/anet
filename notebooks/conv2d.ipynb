{
 "cells": [
  {
   "cell_type": "code",
   "execution_count": 16,
   "id": "de6ae9fa",
   "metadata": {},
   "outputs": [],
   "source": [
    "import numpy as np\n",
    "import matplotlib\n",
    "import matplotlib.pyplot as plt\n",
    "import seaborn as sns"
   ]
  },
  {
   "cell_type": "code",
   "execution_count": 35,
   "id": "f39fd02f",
   "metadata": {},
   "outputs": [],
   "source": [
    "#定义一个图像\n",
    "img = np.array([[1,2,1,2,2],[2,1,0,1,0],[3,2,1,3,2],[3,2,1,1,2],[1,2,1,1,2]])"
   ]
  },
  {
   "cell_type": "code",
   "execution_count": 36,
   "id": "5bc6161d",
   "metadata": {},
   "outputs": [],
   "source": [
    "img = img.reshape(5,5,1)"
   ]
  },
  {
   "cell_type": "code",
   "execution_count": 38,
   "id": "209535ee",
   "metadata": {},
   "outputs": [],
   "source": [
    "img = np.transpose(img,(2,0,1))"
   ]
  },
  {
   "cell_type": "code",
   "execution_count": 40,
   "id": "2158d00f",
   "metadata": {},
   "outputs": [
    {
     "data": {
      "text/plain": [
       "array([[[1, 2, 1, 2, 2],\n",
       "        [2, 1, 0, 1, 0],\n",
       "        [3, 2, 1, 3, 2],\n",
       "        [3, 2, 1, 1, 2],\n",
       "        [1, 2, 1, 1, 2]]])"
      ]
     },
     "execution_count": 40,
     "metadata": {},
     "output_type": "execute_result"
    }
   ],
   "source": [
    "img"
   ]
  },
  {
   "cell_type": "code",
   "execution_count": 28,
   "id": "ab23b67c",
   "metadata": {},
   "outputs": [
    {
     "data": {
      "text/plain": [
       "<AxesSubplot:>"
      ]
     },
     "execution_count": 28,
     "metadata": {},
     "output_type": "execute_result"
    },
    {
     "data": {
      "image/png": "[encoded data removed]",
      "text/plain": [
       "<Figure size 432x288 with 2 Axes>"
      ]
     },
     "metadata": {
      "needs_background": "light"
     },
     "output_type": "display_data"
    }
   ],
   "source": [
    "sns.heatmap(img)"
   ]
  },
  {
   "cell_type": "code",
   "execution_count": 20,
   "id": "36de7bc9",
   "metadata": {},
   "outputs": [
    {
     "data": {
      "text/plain": [
       "array([[1, 0, 0],\n",
       "       [0, 1, 0],\n",
       "       [0, 0, 1]])"
      ]
     },
     "execution_count": 20,
     "metadata": {},
     "output_type": "execute_result"
    }
   ],
   "source": [
    "kernel = np.diag((1,1,1))\n",
    "kernel"
   ]
  },
  {
   "cell_type": "code",
   "execution_count": 21,
   "id": "65148e2d",
   "metadata": {},
   "outputs": [
    {
     "data": {
      "text/plain": [
       "<matplotlib.image.AxesImage at 0x1f0da08fe80>"
      ]
     },
     "execution_count": 21,
     "metadata": {},
     "output_type": "execute_result"
    },
    {
     "data": {
      "image/png": "[encoded data removed]",
      "text/plain": [
       "<Figure size 288x288 with 1 Axes>"
      ]
     },
     "metadata": {
      "needs_background": "light"
     },
     "output_type": "display_data"
    }
   ],
   "source": [
    "plt.matshow(kernel)"
   ]
  },
  {
   "cell_type": "code",
   "execution_count": 43,
   "id": "c937c098",
   "metadata": {},
   "outputs": [],
   "source": [
    "kernel = kernel.reshape(3,3,1)\n",
    "kernel = np.transpose(kernel,(2,0,1))"
   ]
  },
  {
   "cell_type": "code",
   "execution_count": 44,
   "id": "89b27622",
   "metadata": {},
   "outputs": [],
   "source": [
    "kernel = np.expand_dims(kernel,axis=0)"
   ]
  },
  {
   "cell_type": "code",
   "execution_count": 45,
   "id": "37aa45ff",
   "metadata": {},
   "outputs": [
    {
     "data": {
      "text/plain": [
       "(1, 1, 3, 3)"
      ]
     },
     "execution_count": 45,
     "metadata": {},
     "output_type": "execute_result"
    }
   ],
   "source": [
    "kernel.shape"
   ]
  },
  {
   "cell_type": "code",
   "execution_count": 46,
   "id": "a1c842e2",
   "metadata": {},
   "outputs": [],
   "source": [
    "cout,cin,H,W = kernel.shape"
   ]
  },
  {
   "cell_type": "code",
   "execution_count": 48,
   "id": "a305ab59",
   "metadata": {},
   "outputs": [],
   "source": [
    "ret = np.zeros((cout,(img.shape[1] - H + 1),(img.shape[2] - W + 1)),dtype=kernel.dtype)"
   ]
  },
  {
   "cell_type": "code",
   "execution_count": 52,
   "id": "7eddab1f",
   "metadata": {},
   "outputs": [
    {
     "data": {
      "text/plain": [
       "(1, 3, 3)"
      ]
     },
     "execution_count": 52,
     "metadata": {},
     "output_type": "execute_result"
    }
   ],
   "source": []
  },
  {
   "cell_type": "code",
   "execution_count": 53,
   "id": "3f7b8c15",
   "metadata": {},
   "outputs": [
    {
     "data": {
      "text/plain": [
       "<matplotlib.image.AxesImage at 0x1f0da9541f0>"
      ]
     },
     "execution_count": 53,
     "metadata": {},
     "output_type": "execute_result"
    },
    {
     "data": {
      "image/png": "[encoded data removed]",
      "text/plain": [
       "<Figure size 288x288 with 1 Axes>"
      ]
     },
     "metadata": {
      "needs_background": "light"
     },
     "output_type": "display_data"
    }
   ],
   "source": [
    "plt.matshow(np.transpose(ret,(1,2,0)))"
   ]
  },
  {
   "cell_type": "code",
   "execution_count": 72,
   "id": "b87ef563",
   "metadata": {},
   "outputs": [],
   "source": [
    "img = np.random.randn(5,3,5,5)\n",
    "kernel = np.random.randn(2,3,3,3)\n",
    "cout,cin,H,W = kernel.shape\n",
    "ret = np.zeros((img.shape[0],cout,(img.shape[2] - H + 1),(img.shape[3] - W + 1)),dtype=kernel.dtype)"
   ]
  },
  {
   "cell_type": "code",
   "execution_count": 78,
   "id": "12dcc774",
   "metadata": {},
   "outputs": [
    {
     "name": "stdout",
     "output_type": "stream",
     "text": [
      "(5,)\n",
      "(5,)\n",
      "(5,)\n",
      "(5,)\n",
      "(5,)\n",
      "(5,)\n",
      "(5,)\n",
      "(5,)\n",
      "(5,)\n",
      "(5,)\n",
      "(5,)\n",
      "(5,)\n",
      "(5,)\n",
      "(5,)\n",
      "(5,)\n",
      "(5,)\n",
      "(5,)\n",
      "(5,)\n",
      "(5,)\n",
      "(5,)\n",
      "(5,)\n",
      "(5,)\n",
      "(5,)\n",
      "(5,)\n",
      "(5,)\n",
      "(5,)\n",
      "(5,)\n",
      "(5,)\n",
      "(5,)\n",
      "(5,)\n",
      "(5,)\n",
      "(5,)\n",
      "(5,)\n",
      "(5,)\n",
      "(5,)\n",
      "(5,)\n",
      "(5,)\n",
      "(5,)\n",
      "(5,)\n",
      "(5,)\n",
      "(5,)\n",
      "(5,)\n",
      "(5,)\n",
      "(5,)\n",
      "(5,)\n",
      "(5,)\n",
      "(5,)\n",
      "(5,)\n",
      "(5,)\n",
      "(5,)\n",
      "(5,)\n",
      "(5,)\n",
      "(5,)\n",
      "(5,)\n",
      "(5,)\n",
      "(5,)\n",
      "(5,)\n",
      "(5,)\n",
      "(5,)\n",
      "(5,)\n",
      "(5,)\n",
      "(5,)\n",
      "(5,)\n",
      "(5,)\n",
      "(5,)\n",
      "(5,)\n",
      "(5,)\n",
      "(5,)\n",
      "(5,)\n",
      "(5,)\n",
      "(5,)\n",
      "(5,)\n",
      "(5,)\n",
      "(5,)\n",
      "(5,)\n",
      "(5,)\n",
      "(5,)\n",
      "(5,)\n",
      "(5,)\n",
      "(5,)\n",
      "(5,)\n",
      "(5,)\n",
      "(5,)\n",
      "(5,)\n",
      "(5,)\n",
      "(5,)\n",
      "(5,)\n",
      "(5,)\n",
      "(5,)\n",
      "(5,)\n",
      "(5,)\n",
      "(5,)\n",
      "(5,)\n",
      "(5,)\n",
      "(5,)\n",
      "(5,)\n",
      "(5,)\n",
      "(5,)\n",
      "(5,)\n",
      "(5,)\n",
      "(5,)\n",
      "(5,)\n",
      "(5,)\n",
      "(5,)\n",
      "(5,)\n",
      "(5,)\n",
      "(5,)\n",
      "(5,)\n",
      "(5,)\n",
      "(5,)\n",
      "(5,)\n",
      "(5,)\n",
      "(5,)\n",
      "(5,)\n",
      "(5,)\n",
      "(5,)\n",
      "(5,)\n",
      "(5,)\n",
      "(5,)\n",
      "(5,)\n",
      "(5,)\n",
      "(5,)\n",
      "(5,)\n",
      "(5,)\n",
      "(5,)\n",
      "(5,)\n",
      "(5,)\n",
      "(5,)\n",
      "(5,)\n",
      "(5,)\n",
      "(5,)\n",
      "(5,)\n",
      "(5,)\n",
      "(5,)\n",
      "(5,)\n",
      "(5,)\n",
      "(5,)\n",
      "(5,)\n",
      "(5,)\n",
      "(5,)\n",
      "(5,)\n",
      "(5,)\n",
      "(5,)\n",
      "(5,)\n",
      "(5,)\n",
      "(5,)\n",
      "(5,)\n",
      "(5,)\n",
      "(5,)\n",
      "(5,)\n",
      "(5,)\n",
      "(5,)\n",
      "(5,)\n",
      "(5,)\n",
      "(5,)\n",
      "(5,)\n",
      "(5,)\n",
      "(5,)\n",
      "(5,)\n",
      "(5,)\n",
      "(5,)\n",
      "(5,)\n"
     ]
    }
   ],
   "source": [
    "for Y in range(ret.shape[2]):\n",
    "    for X in range(ret.shape[3]):\n",
    "        for j in range(H):\n",
    "            for i in range(W):\n",
    "                for c in range(cout):\n",
    "                    tx = img[:,:,Y+j,X+i]\n",
    "#                     print(tx.shape)#(5,3)\n",
    "                    tw = kernel[c,:,j,i]\n",
    "#                     print(tw.shape)#(3,1)\n",
    "                    print(tx.dot(tw.reshape(-1,1)).shape)\n",
    "                    ret[:,c,Y,X] += tx.dot(tw.reshape(-1,1)).reshape(-1)"
   ]
  },
  {
   "cell_type": "code",
   "execution_count": 74,
   "id": "2ba3c8c6",
   "metadata": {},
   "outputs": [
    {
     "data": {
      "text/plain": [
       "(5, 2, 3, 3)"
      ]
     },
     "execution_count": 74,
     "metadata": {},
     "output_type": "execute_result"
    }
   ],
   "source": [
    "ret.shape"
   ]
  },
  {
   "cell_type": "code",
   "execution_count": null,
   "id": "f2d0e867",
   "metadata": {},
   "outputs": [],
   "source": []
  }
 ],
 "metadata": {
  "kernelspec": {
   "display_name": "Python 3 (ipykernel)",
   "language": "python",
   "name": "python3"
  },
  "language_info": {
   "codemirror_mode": {
    "name": "ipython",
    "version": 3
   },
   "file_extension": ".py",
   "mimetype": "text/x-python",
   "name": "python",
   "nbconvert_exporter": "python",
   "pygments_lexer": "ipython3",
   "version": "3.8.13"
  }
 },
 "nbformat": 4,
 "nbformat_minor": 5
}
